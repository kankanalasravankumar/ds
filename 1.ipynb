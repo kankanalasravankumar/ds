{
 "cells": [
  {
   "cell_type": "code",
   "execution_count": 47,
   "metadata": {},
   "outputs": [
    {
     "name": "stdout",
     "output_type": "stream",
     "text": [
      "enter lower limit2000\n",
      "enter upper limit3200\n",
      "2002,2009,2016,2023,2037,2044,2051,2058,2072,2079,2086,2093,2107,2114,2121,2128,2142,2149,2156,2163,2177,2184,2191,2198,2212,2219,2226,2233,2247,2254,2261,2268,2282,2289,2296,2303,2317,2324,2331,2338,2352,2359,2366,2373,2387,2394,2401,2408,2422,2429,2436,2443,2457,2464,2471,2478,2492,2499,2506,2513,2527,2534,2541,2548,2562,2569,2576,2583,2597,2604,2611,2618,2632,2639,2646,2653,2667,2674,2681,2688,2702,2709,2716,2723,2737,2744,2751,2758,2772,2779,2786,2793,2807,2814,2821,2828,2842,2849,2856,2863,2877,2884,2891,2898,2912,2919,2926,2933,2947,2954,2961,2968,2982,2989,2996,3003,3017,3024,3031,3038,3052,3059,3066,3073,3087,3094,3101,3108,3122,3129,3136,3143,3157,3164,3171,3178,3192,3199,"
     ]
    }
   ],
   "source": [
    "#print values which are multiple of 7 & not multiple of 5\n",
    "\n",
    "lower = int(input(\"enter lower limit\"))\n",
    "upper = int(input(\"enter upper limit\"))\n",
    "\n",
    "for i in range(lower,upper+1):\n",
    "    if i%7==0 and i%5!=0:\n",
    "        print(i, end =\",\")\n",
    "\n",
    "    "
   ]
  },
  {
   "cell_type": "code",
   "execution_count": 59,
   "metadata": {},
   "outputs": [
    {
     "name": "stdout",
     "output_type": "stream",
     "text": [
      "enter first namesravan\n",
      "enter last nameKankanala\n",
      "alanaknaKnavars\n"
     ]
    }
   ],
   "source": [
    "#Adding two lists & print in reverse order \n",
    "\n",
    "first_name = input(\"enter first name\")\n",
    "last_name = input('enter last name')\n",
    "full_name = first_name + last_name\n",
    "print(full_name[::-1])"
   ]
  },
  {
   "cell_type": "code",
   "execution_count": 60,
   "metadata": {},
   "outputs": [
    {
     "name": "stdout",
     "output_type": "stream",
     "text": [
      "enter first namesravan\n",
      "enter last nameKankanala\n",
      "Kankanala sravan\n"
     ]
    }
   ],
   "source": [
    "#Adding two lists & print in reverse order \n",
    "\n",
    "first_name = input(\"enter first name\")\n",
    "last_name = input('enter last name')\n",
    "full_name = last_name + \" \" + first_name\n",
    "print(full_name)"
   ]
  },
  {
   "cell_type": "code",
   "execution_count": 39,
   "metadata": {},
   "outputs": [
    {
     "name": "stdout",
     "output_type": "stream",
     "text": [
      "enter diameter value12\n",
      "905.142857142857\n"
     ]
    }
   ],
   "source": [
    "#volume of sphere\n",
    "pi = 22/7\n",
    "d = int(input(\"enter diameter value\"))\n",
    "r = d/2\n",
    "volume_of_sphere = ((4/3)*pi*r**3)\n",
    "print(volume_of_sphere)"
   ]
  },
  {
   "cell_type": "code",
   "execution_count": null,
   "metadata": {},
   "outputs": [],
   "source": []
  }
 ],
 "metadata": {
  "kernelspec": {
   "display_name": "Python 3",
   "language": "python",
   "name": "python3"
  },
  "language_info": {
   "codemirror_mode": {
    "name": "ipython",
    "version": 3
   },
   "file_extension": ".py",
   "mimetype": "text/x-python",
   "name": "python",
   "nbconvert_exporter": "python",
   "pygments_lexer": "ipython3",
   "version": "3.7.4"
  }
 },
 "nbformat": 4,
 "nbformat_minor": 2
}
